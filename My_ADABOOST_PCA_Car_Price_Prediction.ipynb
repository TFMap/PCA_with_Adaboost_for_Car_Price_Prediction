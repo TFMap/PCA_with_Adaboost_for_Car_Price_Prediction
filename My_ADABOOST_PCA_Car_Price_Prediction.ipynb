{
 "cells": [
  {
   "cell_type": "code",
   "execution_count": 1,
   "id": "cb9c62b8",
   "metadata": {},
   "outputs": [],
   "source": [
    "import numpy as np\n",
    "import matplotlib.pyplot as plt\n",
    "import pandas as pd\n",
    "from sklearn import decomposition\n",
    "from sklearn import datasets"
   ]
  },
  {
   "cell_type": "code",
   "execution_count": 2,
   "id": "9358de91",
   "metadata": {},
   "outputs": [],
   "source": [
    "# load dataset into Pandas DataFrame\n",
    "df_cp = pd.read_csv(\"car_price_prediction3.csv\")\n",
    "#df.to_csv('iris.csv')\n",
    "from sklearn.preprocessing import StandardScaler"
   ]
  },
  {
   "cell_type": "code",
   "execution_count": 3,
   "id": "63093c6e",
   "metadata": {},
   "outputs": [],
   "source": [
    "df = df_cp"
   ]
  },
  {
   "cell_type": "code",
   "execution_count": 4,
   "id": "b9bcb9f0",
   "metadata": {},
   "outputs": [],
   "source": [
    "df = pd.get_dummies(df_cp,columns = [\"Manufacturer\",\"Model\",\"Prod. year\",\"Category\",\"Leather interior\",\"Fuel type\",\"Engine volume\",\"Cylinders\",\"Gear box type\",\"Drive wheels\",\"Doors\",\"Wheel\",\"Color\",\"Airbags\"],drop_first = True)"
   ]
  },
  {
   "cell_type": "code",
   "execution_count": 5,
   "id": "f1d276e5",
   "metadata": {},
   "outputs": [
    {
     "data": {
      "text/plain": [
       "pandas.core.frame.DataFrame"
      ]
     },
     "execution_count": 5,
     "metadata": {},
     "output_type": "execute_result"
    }
   ],
   "source": [
    "K = df.loc[:,df.columns!=\"price\"]\n",
    "type(K)"
   ]
  },
  {
   "cell_type": "code",
   "execution_count": 6,
   "id": "e472079e",
   "metadata": {},
   "outputs": [
    {
     "data": {
      "text/plain": [
       "pandas.core.frame.DataFrame"
      ]
     },
     "execution_count": 6,
     "metadata": {},
     "output_type": "execute_result"
    }
   ],
   "source": [
    "K1 = K.loc[:,K.columns!=\"x\"]\n",
    "type(K1)"
   ]
  },
  {
   "cell_type": "code",
   "execution_count": 7,
   "id": "1c0bf703",
   "metadata": {},
   "outputs": [
    {
     "data": {
      "text/plain": [
       "pandas.core.frame.DataFrame"
      ]
     },
     "execution_count": 7,
     "metadata": {},
     "output_type": "execute_result"
    }
   ],
   "source": [
    "K2 = K1.loc[:,K1.columns!=\"y\"]\n",
    "type(K2)"
   ]
  },
  {
   "cell_type": "code",
   "execution_count": 8,
   "id": "7f4d3d52",
   "metadata": {},
   "outputs": [
    {
     "data": {
      "text/plain": [
       "pandas.core.frame.DataFrame"
      ]
     },
     "execution_count": 8,
     "metadata": {},
     "output_type": "execute_result"
    }
   ],
   "source": [
    "all_modified = K2.loc[:,K2.columns!=\"z\"]\n",
    "type(all_modified)"
   ]
  },
  {
   "cell_type": "code",
   "execution_count": 9,
   "id": "054798da",
   "metadata": {},
   "outputs": [],
   "source": [
    "X=np.asarray(all_modified.drop(\"Price\",axis=1))\n",
    "Y=np.asarray(all_modified[\"Price\"])"
   ]
  },
  {
   "cell_type": "code",
   "execution_count": 10,
   "id": "3bc690f6",
   "metadata": {},
   "outputs": [
    {
     "data": {
      "text/plain": [
       "(19237, 1883)"
      ]
     },
     "execution_count": 10,
     "metadata": {},
     "output_type": "execute_result"
    }
   ],
   "source": [
    "X.shape"
   ]
  },
  {
   "cell_type": "code",
   "execution_count": 11,
   "id": "f33ff8bb",
   "metadata": {},
   "outputs": [
    {
     "data": {
      "text/plain": [
       "(19237,)"
      ]
     },
     "execution_count": 11,
     "metadata": {},
     "output_type": "execute_result"
    }
   ],
   "source": [
    "Y.shape"
   ]
  },
  {
   "cell_type": "code",
   "execution_count": 12,
   "id": "11bfc2d9",
   "metadata": {},
   "outputs": [],
   "source": [
    "X = StandardScaler().fit_transform(X)"
   ]
  },
  {
   "cell_type": "code",
   "execution_count": 13,
   "id": "94e83ddc",
   "metadata": {},
   "outputs": [],
   "source": [
    "from sklearn.decomposition import PCA\n",
    "\n",
    "sklearn_pca = PCA()\n",
    "\n",
    "sklearn_pca_fit=sklearn_pca.fit(X)\n",
    "pca_result=sklearn_pca_fit.transform(X)"
   ]
  },
  {
   "cell_type": "markdown",
   "id": "9050385f",
   "metadata": {},
   "source": [
    "from sklearn.decomposition import PCA\n",
    "## Finding the principle components\n",
    "pca = PCA(n_components=15)\n",
    "principalComponents = pca.fit_transform(X)\n",
    "n=pca.explained_variance_ratio_"
   ]
  },
  {
   "cell_type": "code",
   "execution_count": 14,
   "id": "0dd256e9",
   "metadata": {},
   "outputs": [
    {
     "data": {
      "text/plain": [
       "array([[ 3.84968267e+00, -2.42176391e+00, -2.09395838e+00, ...,\n",
       "        -1.52547246e-15,  3.45318392e-16, -3.38271078e-17],\n",
       "       [ 3.06728001e+00, -2.62650881e-01, -6.68826439e-01, ...,\n",
       "         7.66530936e-16, -1.06132551e-15,  8.93382590e-17],\n",
       "       [-3.14029252e+00,  4.65861880e+00, -3.47655327e+00, ...,\n",
       "        -5.16839176e-16,  2.84386230e-16,  1.64798730e-16],\n",
       "       ...,\n",
       "       [-1.39781285e+00, -2.67024546e+00,  2.94404470e+00, ...,\n",
       "        -6.93889390e-17,  9.41087486e-17,  8.67361738e-18],\n",
       "       [-9.89750590e-01, -1.99246849e+00,  2.50546686e+00, ...,\n",
       "        -1.85821410e-15,  1.35525272e-16,  9.54097912e-17],\n",
       "       [-1.48465907e+00, -1.96994035e+00, -2.73669186e-01, ...,\n",
       "        -1.08441901e-15,  1.17863618e-15, -6.07153217e-18]])"
      ]
     },
     "execution_count": 14,
     "metadata": {},
     "output_type": "execute_result"
    }
   ],
   "source": [
    "pca_result"
   ]
  },
  {
   "cell_type": "code",
   "execution_count": 15,
   "id": "d4f8c946",
   "metadata": {},
   "outputs": [
    {
     "data": {
      "text/html": [
       "<div>\n",
       "<style scoped>\n",
       "    .dataframe tbody tr th:only-of-type {\n",
       "        vertical-align: middle;\n",
       "    }\n",
       "\n",
       "    .dataframe tbody tr th {\n",
       "        vertical-align: top;\n",
       "    }\n",
       "\n",
       "    .dataframe thead th {\n",
       "        text-align: right;\n",
       "    }\n",
       "</style>\n",
       "<table border=\"1\" class=\"dataframe\">\n",
       "  <thead>\n",
       "    <tr style=\"text-align: right;\">\n",
       "      <th></th>\n",
       "      <th>0</th>\n",
       "      <th>1</th>\n",
       "      <th>2</th>\n",
       "      <th>3</th>\n",
       "      <th>4</th>\n",
       "      <th>5</th>\n",
       "      <th>6</th>\n",
       "      <th>7</th>\n",
       "      <th>8</th>\n",
       "      <th>9</th>\n",
       "      <th>...</th>\n",
       "      <th>1873</th>\n",
       "      <th>1874</th>\n",
       "      <th>1875</th>\n",
       "      <th>1876</th>\n",
       "      <th>1877</th>\n",
       "      <th>1878</th>\n",
       "      <th>1879</th>\n",
       "      <th>1880</th>\n",
       "      <th>1881</th>\n",
       "      <th>1882</th>\n",
       "    </tr>\n",
       "  </thead>\n",
       "  <tbody>\n",
       "    <tr>\n",
       "      <th>0</th>\n",
       "      <td>3.849683</td>\n",
       "      <td>-2.421764</td>\n",
       "      <td>-2.093958</td>\n",
       "      <td>2.979304</td>\n",
       "      <td>2.634332</td>\n",
       "      <td>0.457857</td>\n",
       "      <td>0.782878</td>\n",
       "      <td>0.769786</td>\n",
       "      <td>1.611680</td>\n",
       "      <td>-1.645442</td>\n",
       "      <td>...</td>\n",
       "      <td>-1.363059e-15</td>\n",
       "      <td>-6.174857e-15</td>\n",
       "      <td>-3.541004e-16</td>\n",
       "      <td>8.673617e-18</td>\n",
       "      <td>-7.539542e-16</td>\n",
       "      <td>1.817123e-15</td>\n",
       "      <td>2.438296e-15</td>\n",
       "      <td>-1.525472e-15</td>\n",
       "      <td>3.453184e-16</td>\n",
       "      <td>-3.382711e-17</td>\n",
       "    </tr>\n",
       "    <tr>\n",
       "      <th>1</th>\n",
       "      <td>3.067280</td>\n",
       "      <td>-0.262651</td>\n",
       "      <td>-0.668826</td>\n",
       "      <td>0.074377</td>\n",
       "      <td>-1.370520</td>\n",
       "      <td>-1.035971</td>\n",
       "      <td>2.595113</td>\n",
       "      <td>-0.606039</td>\n",
       "      <td>-1.184362</td>\n",
       "      <td>1.173788</td>\n",
       "      <td>...</td>\n",
       "      <td>-1.230353e-15</td>\n",
       "      <td>1.981922e-16</td>\n",
       "      <td>1.221245e-15</td>\n",
       "      <td>-1.734723e-18</td>\n",
       "      <td>1.859624e-15</td>\n",
       "      <td>-1.215607e-15</td>\n",
       "      <td>-2.476792e-16</td>\n",
       "      <td>7.665309e-16</td>\n",
       "      <td>-1.061326e-15</td>\n",
       "      <td>8.933826e-17</td>\n",
       "    </tr>\n",
       "    <tr>\n",
       "      <th>2</th>\n",
       "      <td>-3.140293</td>\n",
       "      <td>4.658619</td>\n",
       "      <td>-3.476553</td>\n",
       "      <td>4.170271</td>\n",
       "      <td>-2.821186</td>\n",
       "      <td>-3.374232</td>\n",
       "      <td>-2.286477</td>\n",
       "      <td>0.669891</td>\n",
       "      <td>1.584334</td>\n",
       "      <td>-0.856642</td>\n",
       "      <td>...</td>\n",
       "      <td>7.849624e-17</td>\n",
       "      <td>-6.814753e-16</td>\n",
       "      <td>4.878910e-17</td>\n",
       "      <td>6.941062e-16</td>\n",
       "      <td>-9.102961e-16</td>\n",
       "      <td>3.041838e-15</td>\n",
       "      <td>-5.432734e-16</td>\n",
       "      <td>-5.168392e-16</td>\n",
       "      <td>2.843862e-16</td>\n",
       "      <td>1.647987e-16</td>\n",
       "    </tr>\n",
       "    <tr>\n",
       "      <th>3</th>\n",
       "      <td>-0.065241</td>\n",
       "      <td>-0.632195</td>\n",
       "      <td>-0.338744</td>\n",
       "      <td>0.800653</td>\n",
       "      <td>2.663310</td>\n",
       "      <td>1.117413</td>\n",
       "      <td>0.437462</td>\n",
       "      <td>-0.539486</td>\n",
       "      <td>-1.157261</td>\n",
       "      <td>0.944464</td>\n",
       "      <td>...</td>\n",
       "      <td>-3.911801e-16</td>\n",
       "      <td>-8.283630e-15</td>\n",
       "      <td>-5.819997e-16</td>\n",
       "      <td>-3.158064e-15</td>\n",
       "      <td>2.375053e-15</td>\n",
       "      <td>2.995000e-15</td>\n",
       "      <td>7.848268e-16</td>\n",
       "      <td>3.896623e-16</td>\n",
       "      <td>-2.259369e-15</td>\n",
       "      <td>2.168404e-17</td>\n",
       "    </tr>\n",
       "    <tr>\n",
       "      <th>4</th>\n",
       "      <td>-2.889435</td>\n",
       "      <td>1.052428</td>\n",
       "      <td>-1.688701</td>\n",
       "      <td>2.757509</td>\n",
       "      <td>-2.251845</td>\n",
       "      <td>-2.753600</td>\n",
       "      <td>-1.764829</td>\n",
       "      <td>0.939978</td>\n",
       "      <td>1.439693</td>\n",
       "      <td>-0.603333</td>\n",
       "      <td>...</td>\n",
       "      <td>-3.018419e-16</td>\n",
       "      <td>-1.086316e-15</td>\n",
       "      <td>-1.225148e-16</td>\n",
       "      <td>1.038666e-16</td>\n",
       "      <td>-2.122868e-16</td>\n",
       "      <td>3.116648e-15</td>\n",
       "      <td>-1.245992e-15</td>\n",
       "      <td>-6.484613e-16</td>\n",
       "      <td>-4.137315e-16</td>\n",
       "      <td>-2.081668e-17</td>\n",
       "    </tr>\n",
       "    <tr>\n",
       "      <th>...</th>\n",
       "      <td>...</td>\n",
       "      <td>...</td>\n",
       "      <td>...</td>\n",
       "      <td>...</td>\n",
       "      <td>...</td>\n",
       "      <td>...</td>\n",
       "      <td>...</td>\n",
       "      <td>...</td>\n",
       "      <td>...</td>\n",
       "      <td>...</td>\n",
       "      <td>...</td>\n",
       "      <td>...</td>\n",
       "      <td>...</td>\n",
       "      <td>...</td>\n",
       "      <td>...</td>\n",
       "      <td>...</td>\n",
       "      <td>...</td>\n",
       "      <td>...</td>\n",
       "      <td>...</td>\n",
       "      <td>...</td>\n",
       "      <td>...</td>\n",
       "    </tr>\n",
       "    <tr>\n",
       "      <th>19232</th>\n",
       "      <td>2.411611</td>\n",
       "      <td>5.253943</td>\n",
       "      <td>2.820471</td>\n",
       "      <td>-1.852057</td>\n",
       "      <td>-0.904924</td>\n",
       "      <td>0.060795</td>\n",
       "      <td>-0.937266</td>\n",
       "      <td>0.334315</td>\n",
       "      <td>1.323265</td>\n",
       "      <td>0.221638</td>\n",
       "      <td>...</td>\n",
       "      <td>3.278627e-16</td>\n",
       "      <td>1.260873e-15</td>\n",
       "      <td>1.852251e-15</td>\n",
       "      <td>2.407579e-15</td>\n",
       "      <td>9.900934e-16</td>\n",
       "      <td>7.210378e-15</td>\n",
       "      <td>-4.041106e-15</td>\n",
       "      <td>-5.335359e-15</td>\n",
       "      <td>1.309716e-16</td>\n",
       "      <td>-1.205633e-16</td>\n",
       "    </tr>\n",
       "    <tr>\n",
       "      <th>19233</th>\n",
       "      <td>-1.065489</td>\n",
       "      <td>-1.207092</td>\n",
       "      <td>0.374426</td>\n",
       "      <td>-2.231759</td>\n",
       "      <td>-1.660362</td>\n",
       "      <td>-0.127417</td>\n",
       "      <td>-0.767934</td>\n",
       "      <td>0.126686</td>\n",
       "      <td>0.034603</td>\n",
       "      <td>-0.281423</td>\n",
       "      <td>...</td>\n",
       "      <td>1.403825e-15</td>\n",
       "      <td>5.831923e-16</td>\n",
       "      <td>5.457874e-16</td>\n",
       "      <td>-1.249651e-15</td>\n",
       "      <td>-1.279359e-16</td>\n",
       "      <td>-4.568828e-16</td>\n",
       "      <td>8.248949e-16</td>\n",
       "      <td>-7.891908e-16</td>\n",
       "      <td>1.702414e-15</td>\n",
       "      <td>-1.405126e-16</td>\n",
       "    </tr>\n",
       "    <tr>\n",
       "      <th>19234</th>\n",
       "      <td>-1.397813</td>\n",
       "      <td>-2.670245</td>\n",
       "      <td>2.944045</td>\n",
       "      <td>1.876718</td>\n",
       "      <td>0.734014</td>\n",
       "      <td>-0.809622</td>\n",
       "      <td>0.315707</td>\n",
       "      <td>0.345773</td>\n",
       "      <td>-0.353987</td>\n",
       "      <td>0.409877</td>\n",
       "      <td>...</td>\n",
       "      <td>-3.660267e-16</td>\n",
       "      <td>3.707971e-17</td>\n",
       "      <td>-1.799776e-17</td>\n",
       "      <td>-9.113803e-16</td>\n",
       "      <td>4.685922e-16</td>\n",
       "      <td>-4.529797e-16</td>\n",
       "      <td>-8.313391e-16</td>\n",
       "      <td>-6.938894e-17</td>\n",
       "      <td>9.410875e-17</td>\n",
       "      <td>8.673617e-18</td>\n",
       "    </tr>\n",
       "    <tr>\n",
       "      <th>19235</th>\n",
       "      <td>-0.989751</td>\n",
       "      <td>-1.992468</td>\n",
       "      <td>2.505467</td>\n",
       "      <td>1.823228</td>\n",
       "      <td>0.507966</td>\n",
       "      <td>-0.294030</td>\n",
       "      <td>1.487896</td>\n",
       "      <td>-0.445887</td>\n",
       "      <td>-0.603311</td>\n",
       "      <td>1.169126</td>\n",
       "      <td>...</td>\n",
       "      <td>5.442695e-16</td>\n",
       "      <td>-7.020209e-16</td>\n",
       "      <td>5.733261e-16</td>\n",
       "      <td>-1.655577e-15</td>\n",
       "      <td>2.134577e-15</td>\n",
       "      <td>-1.515715e-16</td>\n",
       "      <td>-5.426364e-16</td>\n",
       "      <td>-1.858214e-15</td>\n",
       "      <td>1.355253e-16</td>\n",
       "      <td>9.540979e-17</td>\n",
       "    </tr>\n",
       "    <tr>\n",
       "      <th>19236</th>\n",
       "      <td>-1.484659</td>\n",
       "      <td>-1.969940</td>\n",
       "      <td>-0.273669</td>\n",
       "      <td>-1.590609</td>\n",
       "      <td>0.703105</td>\n",
       "      <td>0.131401</td>\n",
       "      <td>-1.085817</td>\n",
       "      <td>0.534713</td>\n",
       "      <td>0.281348</td>\n",
       "      <td>-0.416828</td>\n",
       "      <td>...</td>\n",
       "      <td>6.843484e-16</td>\n",
       "      <td>5.105508e-16</td>\n",
       "      <td>-3.781697e-16</td>\n",
       "      <td>-6.581107e-16</td>\n",
       "      <td>-1.418136e-16</td>\n",
       "      <td>-1.347880e-15</td>\n",
       "      <td>-2.383551e-16</td>\n",
       "      <td>-1.084419e-15</td>\n",
       "      <td>1.178636e-15</td>\n",
       "      <td>-6.071532e-18</td>\n",
       "    </tr>\n",
       "  </tbody>\n",
       "</table>\n",
       "<p>19237 rows × 1883 columns</p>\n",
       "</div>"
      ],
      "text/plain": [
       "           0         1         2         3         4         5         6     \\\n",
       "0      3.849683 -2.421764 -2.093958  2.979304  2.634332  0.457857  0.782878   \n",
       "1      3.067280 -0.262651 -0.668826  0.074377 -1.370520 -1.035971  2.595113   \n",
       "2     -3.140293  4.658619 -3.476553  4.170271 -2.821186 -3.374232 -2.286477   \n",
       "3     -0.065241 -0.632195 -0.338744  0.800653  2.663310  1.117413  0.437462   \n",
       "4     -2.889435  1.052428 -1.688701  2.757509 -2.251845 -2.753600 -1.764829   \n",
       "...         ...       ...       ...       ...       ...       ...       ...   \n",
       "19232  2.411611  5.253943  2.820471 -1.852057 -0.904924  0.060795 -0.937266   \n",
       "19233 -1.065489 -1.207092  0.374426 -2.231759 -1.660362 -0.127417 -0.767934   \n",
       "19234 -1.397813 -2.670245  2.944045  1.876718  0.734014 -0.809622  0.315707   \n",
       "19235 -0.989751 -1.992468  2.505467  1.823228  0.507966 -0.294030  1.487896   \n",
       "19236 -1.484659 -1.969940 -0.273669 -1.590609  0.703105  0.131401 -1.085817   \n",
       "\n",
       "           7         8         9     ...          1873          1874  \\\n",
       "0      0.769786  1.611680 -1.645442  ... -1.363059e-15 -6.174857e-15   \n",
       "1     -0.606039 -1.184362  1.173788  ... -1.230353e-15  1.981922e-16   \n",
       "2      0.669891  1.584334 -0.856642  ...  7.849624e-17 -6.814753e-16   \n",
       "3     -0.539486 -1.157261  0.944464  ... -3.911801e-16 -8.283630e-15   \n",
       "4      0.939978  1.439693 -0.603333  ... -3.018419e-16 -1.086316e-15   \n",
       "...         ...       ...       ...  ...           ...           ...   \n",
       "19232  0.334315  1.323265  0.221638  ...  3.278627e-16  1.260873e-15   \n",
       "19233  0.126686  0.034603 -0.281423  ...  1.403825e-15  5.831923e-16   \n",
       "19234  0.345773 -0.353987  0.409877  ... -3.660267e-16  3.707971e-17   \n",
       "19235 -0.445887 -0.603311  1.169126  ...  5.442695e-16 -7.020209e-16   \n",
       "19236  0.534713  0.281348 -0.416828  ...  6.843484e-16  5.105508e-16   \n",
       "\n",
       "               1875          1876          1877          1878          1879  \\\n",
       "0     -3.541004e-16  8.673617e-18 -7.539542e-16  1.817123e-15  2.438296e-15   \n",
       "1      1.221245e-15 -1.734723e-18  1.859624e-15 -1.215607e-15 -2.476792e-16   \n",
       "2      4.878910e-17  6.941062e-16 -9.102961e-16  3.041838e-15 -5.432734e-16   \n",
       "3     -5.819997e-16 -3.158064e-15  2.375053e-15  2.995000e-15  7.848268e-16   \n",
       "4     -1.225148e-16  1.038666e-16 -2.122868e-16  3.116648e-15 -1.245992e-15   \n",
       "...             ...           ...           ...           ...           ...   \n",
       "19232  1.852251e-15  2.407579e-15  9.900934e-16  7.210378e-15 -4.041106e-15   \n",
       "19233  5.457874e-16 -1.249651e-15 -1.279359e-16 -4.568828e-16  8.248949e-16   \n",
       "19234 -1.799776e-17 -9.113803e-16  4.685922e-16 -4.529797e-16 -8.313391e-16   \n",
       "19235  5.733261e-16 -1.655577e-15  2.134577e-15 -1.515715e-16 -5.426364e-16   \n",
       "19236 -3.781697e-16 -6.581107e-16 -1.418136e-16 -1.347880e-15 -2.383551e-16   \n",
       "\n",
       "               1880          1881          1882  \n",
       "0     -1.525472e-15  3.453184e-16 -3.382711e-17  \n",
       "1      7.665309e-16 -1.061326e-15  8.933826e-17  \n",
       "2     -5.168392e-16  2.843862e-16  1.647987e-16  \n",
       "3      3.896623e-16 -2.259369e-15  2.168404e-17  \n",
       "4     -6.484613e-16 -4.137315e-16 -2.081668e-17  \n",
       "...             ...           ...           ...  \n",
       "19232 -5.335359e-15  1.309716e-16 -1.205633e-16  \n",
       "19233 -7.891908e-16  1.702414e-15 -1.405126e-16  \n",
       "19234 -6.938894e-17  9.410875e-17  8.673617e-18  \n",
       "19235 -1.858214e-15  1.355253e-16  9.540979e-17  \n",
       "19236 -1.084419e-15  1.178636e-15 -6.071532e-18  \n",
       "\n",
       "[19237 rows x 1883 columns]"
      ]
     },
     "execution_count": 15,
     "metadata": {},
     "output_type": "execute_result"
    }
   ],
   "source": [
    "pd.DataFrame(pca_result)"
   ]
  },
  {
   "cell_type": "code",
   "execution_count": 16,
   "id": "d6f8ab3d",
   "metadata": {},
   "outputs": [
    {
     "data": {
      "text/html": [
       "<div>\n",
       "<style scoped>\n",
       "    .dataframe tbody tr th:only-of-type {\n",
       "        vertical-align: middle;\n",
       "    }\n",
       "\n",
       "    .dataframe tbody tr th {\n",
       "        vertical-align: top;\n",
       "    }\n",
       "\n",
       "    .dataframe thead th {\n",
       "        text-align: right;\n",
       "    }\n",
       "</style>\n",
       "<table border=\"1\" class=\"dataframe\">\n",
       "  <thead>\n",
       "    <tr style=\"text-align: right;\">\n",
       "      <th></th>\n",
       "      <th>0</th>\n",
       "    </tr>\n",
       "  </thead>\n",
       "  <tbody>\n",
       "    <tr>\n",
       "      <th>0</th>\n",
       "      <td>6.020</td>\n",
       "    </tr>\n",
       "    <tr>\n",
       "      <th>1</th>\n",
       "      <td>5.203</td>\n",
       "    </tr>\n",
       "    <tr>\n",
       "      <th>2</th>\n",
       "      <td>4.547</td>\n",
       "    </tr>\n",
       "    <tr>\n",
       "      <th>3</th>\n",
       "      <td>3.615</td>\n",
       "    </tr>\n",
       "    <tr>\n",
       "      <th>4</th>\n",
       "      <td>3.530</td>\n",
       "    </tr>\n",
       "    <tr>\n",
       "      <th>...</th>\n",
       "      <td>...</td>\n",
       "    </tr>\n",
       "    <tr>\n",
       "      <th>1878</th>\n",
       "      <td>0.000</td>\n",
       "    </tr>\n",
       "    <tr>\n",
       "      <th>1879</th>\n",
       "      <td>0.000</td>\n",
       "    </tr>\n",
       "    <tr>\n",
       "      <th>1880</th>\n",
       "      <td>0.000</td>\n",
       "    </tr>\n",
       "    <tr>\n",
       "      <th>1881</th>\n",
       "      <td>0.000</td>\n",
       "    </tr>\n",
       "    <tr>\n",
       "      <th>1882</th>\n",
       "      <td>0.000</td>\n",
       "    </tr>\n",
       "  </tbody>\n",
       "</table>\n",
       "<p>1883 rows × 1 columns</p>\n",
       "</div>"
      ],
      "text/plain": [
       "         0\n",
       "0    6.020\n",
       "1    5.203\n",
       "2    4.547\n",
       "3    3.615\n",
       "4    3.530\n",
       "...    ...\n",
       "1878 0.000\n",
       "1879 0.000\n",
       "1880 0.000\n",
       "1881 0.000\n",
       "1882 0.000\n",
       "\n",
       "[1883 rows x 1 columns]"
      ]
     },
     "execution_count": 16,
     "metadata": {},
     "output_type": "execute_result"
    }
   ],
   "source": [
    "pd.set_option('display.float_format', lambda x: '%.3f' % x)\n",
    "pd.DataFrame(sklearn_pca_fit.explained_variance_)"
   ]
  },
  {
   "cell_type": "code",
   "execution_count": 17,
   "id": "185bcba7",
   "metadata": {},
   "outputs": [],
   "source": [
    "eigen=pd.DataFrame({\"Eigen\":sklearn_pca_fit.explained_variance_, \n",
    "              \"Ver_explained\":sklearn_pca_fit.explained_variance_ratio_,\n",
    "             \"Cumm_var\":sklearn_pca_fit.explained_variance_ratio_.cumsum()})"
   ]
  },
  {
   "cell_type": "code",
   "execution_count": 18,
   "id": "4f4aecb2",
   "metadata": {},
   "outputs": [
    {
     "data": {
      "text/html": [
       "<div>\n",
       "<style scoped>\n",
       "    .dataframe tbody tr th:only-of-type {\n",
       "        vertical-align: middle;\n",
       "    }\n",
       "\n",
       "    .dataframe tbody tr th {\n",
       "        vertical-align: top;\n",
       "    }\n",
       "\n",
       "    .dataframe thead th {\n",
       "        text-align: right;\n",
       "    }\n",
       "</style>\n",
       "<table border=\"1\" class=\"dataframe\">\n",
       "  <thead>\n",
       "    <tr style=\"text-align: right;\">\n",
       "      <th></th>\n",
       "      <th>Eigen</th>\n",
       "      <th>Ver_explained</th>\n",
       "      <th>Cumm_var</th>\n",
       "    </tr>\n",
       "  </thead>\n",
       "  <tbody>\n",
       "    <tr>\n",
       "      <th>0</th>\n",
       "      <td>6.020</td>\n",
       "      <td>0.003</td>\n",
       "      <td>0.003</td>\n",
       "    </tr>\n",
       "    <tr>\n",
       "      <th>1</th>\n",
       "      <td>5.203</td>\n",
       "      <td>0.003</td>\n",
       "      <td>0.006</td>\n",
       "    </tr>\n",
       "    <tr>\n",
       "      <th>2</th>\n",
       "      <td>4.547</td>\n",
       "      <td>0.002</td>\n",
       "      <td>0.008</td>\n",
       "    </tr>\n",
       "    <tr>\n",
       "      <th>3</th>\n",
       "      <td>3.615</td>\n",
       "      <td>0.002</td>\n",
       "      <td>0.010</td>\n",
       "    </tr>\n",
       "    <tr>\n",
       "      <th>4</th>\n",
       "      <td>3.530</td>\n",
       "      <td>0.002</td>\n",
       "      <td>0.012</td>\n",
       "    </tr>\n",
       "    <tr>\n",
       "      <th>...</th>\n",
       "      <td>...</td>\n",
       "      <td>...</td>\n",
       "      <td>...</td>\n",
       "    </tr>\n",
       "    <tr>\n",
       "      <th>1878</th>\n",
       "      <td>0.000</td>\n",
       "      <td>0.000</td>\n",
       "      <td>1.000</td>\n",
       "    </tr>\n",
       "    <tr>\n",
       "      <th>1879</th>\n",
       "      <td>0.000</td>\n",
       "      <td>0.000</td>\n",
       "      <td>1.000</td>\n",
       "    </tr>\n",
       "    <tr>\n",
       "      <th>1880</th>\n",
       "      <td>0.000</td>\n",
       "      <td>0.000</td>\n",
       "      <td>1.000</td>\n",
       "    </tr>\n",
       "    <tr>\n",
       "      <th>1881</th>\n",
       "      <td>0.000</td>\n",
       "      <td>0.000</td>\n",
       "      <td>1.000</td>\n",
       "    </tr>\n",
       "    <tr>\n",
       "      <th>1882</th>\n",
       "      <td>0.000</td>\n",
       "      <td>0.000</td>\n",
       "      <td>1.000</td>\n",
       "    </tr>\n",
       "  </tbody>\n",
       "</table>\n",
       "<p>1883 rows × 3 columns</p>\n",
       "</div>"
      ],
      "text/plain": [
       "      Eigen  Ver_explained  Cumm_var\n",
       "0     6.020          0.003     0.003\n",
       "1     5.203          0.003     0.006\n",
       "2     4.547          0.002     0.008\n",
       "3     3.615          0.002     0.010\n",
       "4     3.530          0.002     0.012\n",
       "...     ...            ...       ...\n",
       "1878  0.000          0.000     1.000\n",
       "1879  0.000          0.000     1.000\n",
       "1880  0.000          0.000     1.000\n",
       "1881  0.000          0.000     1.000\n",
       "1882  0.000          0.000     1.000\n",
       "\n",
       "[1883 rows x 3 columns]"
      ]
     },
     "execution_count": 18,
     "metadata": {},
     "output_type": "execute_result"
    }
   ],
   "source": [
    "eigen"
   ]
  },
  {
   "cell_type": "code",
   "execution_count": 19,
   "id": "e2c8c10d",
   "metadata": {},
   "outputs": [
    {
     "data": {
      "text/html": [
       "<div>\n",
       "<style scoped>\n",
       "    .dataframe tbody tr th:only-of-type {\n",
       "        vertical-align: middle;\n",
       "    }\n",
       "\n",
       "    .dataframe tbody tr th {\n",
       "        vertical-align: top;\n",
       "    }\n",
       "\n",
       "    .dataframe thead th {\n",
       "        text-align: right;\n",
       "    }\n",
       "</style>\n",
       "<table border=\"1\" class=\"dataframe\">\n",
       "  <thead>\n",
       "    <tr style=\"text-align: right;\">\n",
       "      <th></th>\n",
       "      <th>Eigen</th>\n",
       "      <th>Ver_explained</th>\n",
       "      <th>Cumm_var</th>\n",
       "    </tr>\n",
       "  </thead>\n",
       "  <tbody>\n",
       "    <tr>\n",
       "      <th>0</th>\n",
       "      <td>6.020</td>\n",
       "      <td>0.003</td>\n",
       "      <td>0.003</td>\n",
       "    </tr>\n",
       "    <tr>\n",
       "      <th>1</th>\n",
       "      <td>5.203</td>\n",
       "      <td>0.003</td>\n",
       "      <td>0.006</td>\n",
       "    </tr>\n",
       "    <tr>\n",
       "      <th>2</th>\n",
       "      <td>4.547</td>\n",
       "      <td>0.002</td>\n",
       "      <td>0.008</td>\n",
       "    </tr>\n",
       "    <tr>\n",
       "      <th>3</th>\n",
       "      <td>3.615</td>\n",
       "      <td>0.002</td>\n",
       "      <td>0.010</td>\n",
       "    </tr>\n",
       "    <tr>\n",
       "      <th>4</th>\n",
       "      <td>3.530</td>\n",
       "      <td>0.002</td>\n",
       "      <td>0.012</td>\n",
       "    </tr>\n",
       "    <tr>\n",
       "      <th>...</th>\n",
       "      <td>...</td>\n",
       "      <td>...</td>\n",
       "      <td>...</td>\n",
       "    </tr>\n",
       "    <tr>\n",
       "      <th>1210</th>\n",
       "      <td>1.000</td>\n",
       "      <td>0.001</td>\n",
       "      <td>0.748</td>\n",
       "    </tr>\n",
       "    <tr>\n",
       "      <th>1211</th>\n",
       "      <td>1.000</td>\n",
       "      <td>0.001</td>\n",
       "      <td>0.748</td>\n",
       "    </tr>\n",
       "    <tr>\n",
       "      <th>1212</th>\n",
       "      <td>1.000</td>\n",
       "      <td>0.001</td>\n",
       "      <td>0.749</td>\n",
       "    </tr>\n",
       "    <tr>\n",
       "      <th>1213</th>\n",
       "      <td>1.000</td>\n",
       "      <td>0.001</td>\n",
       "      <td>0.749</td>\n",
       "    </tr>\n",
       "    <tr>\n",
       "      <th>1214</th>\n",
       "      <td>1.000</td>\n",
       "      <td>0.001</td>\n",
       "      <td>0.750</td>\n",
       "    </tr>\n",
       "  </tbody>\n",
       "</table>\n",
       "<p>1215 rows × 3 columns</p>\n",
       "</div>"
      ],
      "text/plain": [
       "      Eigen  Ver_explained  Cumm_var\n",
       "0     6.020          0.003     0.003\n",
       "1     5.203          0.003     0.006\n",
       "2     4.547          0.002     0.008\n",
       "3     3.615          0.002     0.010\n",
       "4     3.530          0.002     0.012\n",
       "...     ...            ...       ...\n",
       "1210  1.000          0.001     0.748\n",
       "1211  1.000          0.001     0.748\n",
       "1212  1.000          0.001     0.749\n",
       "1213  1.000          0.001     0.749\n",
       "1214  1.000          0.001     0.750\n",
       "\n",
       "[1215 rows x 3 columns]"
      ]
     },
     "execution_count": 19,
     "metadata": {},
     "output_type": "execute_result"
    }
   ],
   "source": [
    "eigen[eigen[\"Cumm_var\"]<=.75] "
   ]
  },
  {
   "cell_type": "code",
   "execution_count": 20,
   "id": "dc4a4ce8",
   "metadata": {},
   "outputs": [
    {
     "data": {
      "text/html": [
       "<div>\n",
       "<style scoped>\n",
       "    .dataframe tbody tr th:only-of-type {\n",
       "        vertical-align: middle;\n",
       "    }\n",
       "\n",
       "    .dataframe tbody tr th {\n",
       "        vertical-align: top;\n",
       "    }\n",
       "\n",
       "    .dataframe thead th {\n",
       "        text-align: right;\n",
       "    }\n",
       "</style>\n",
       "<table border=\"1\" class=\"dataframe\">\n",
       "  <thead>\n",
       "    <tr style=\"text-align: right;\">\n",
       "      <th></th>\n",
       "      <th>Eigen</th>\n",
       "      <th>Ver_explained</th>\n",
       "      <th>Cumm_var</th>\n",
       "    </tr>\n",
       "  </thead>\n",
       "  <tbody>\n",
       "    <tr>\n",
       "      <th>0</th>\n",
       "      <td>6.020</td>\n",
       "      <td>0.003</td>\n",
       "      <td>0.003</td>\n",
       "    </tr>\n",
       "    <tr>\n",
       "      <th>1</th>\n",
       "      <td>5.203</td>\n",
       "      <td>0.003</td>\n",
       "      <td>0.006</td>\n",
       "    </tr>\n",
       "    <tr>\n",
       "      <th>2</th>\n",
       "      <td>4.547</td>\n",
       "      <td>0.002</td>\n",
       "      <td>0.008</td>\n",
       "    </tr>\n",
       "    <tr>\n",
       "      <th>3</th>\n",
       "      <td>3.615</td>\n",
       "      <td>0.002</td>\n",
       "      <td>0.010</td>\n",
       "    </tr>\n",
       "    <tr>\n",
       "      <th>4</th>\n",
       "      <td>3.530</td>\n",
       "      <td>0.002</td>\n",
       "      <td>0.012</td>\n",
       "    </tr>\n",
       "    <tr>\n",
       "      <th>...</th>\n",
       "      <td>...</td>\n",
       "      <td>...</td>\n",
       "      <td>...</td>\n",
       "    </tr>\n",
       "    <tr>\n",
       "      <th>1586</th>\n",
       "      <td>1.000</td>\n",
       "      <td>0.001</td>\n",
       "      <td>0.948</td>\n",
       "    </tr>\n",
       "    <tr>\n",
       "      <th>1587</th>\n",
       "      <td>1.000</td>\n",
       "      <td>0.001</td>\n",
       "      <td>0.948</td>\n",
       "    </tr>\n",
       "    <tr>\n",
       "      <th>1588</th>\n",
       "      <td>1.000</td>\n",
       "      <td>0.001</td>\n",
       "      <td>0.949</td>\n",
       "    </tr>\n",
       "    <tr>\n",
       "      <th>1589</th>\n",
       "      <td>1.000</td>\n",
       "      <td>0.001</td>\n",
       "      <td>0.949</td>\n",
       "    </tr>\n",
       "    <tr>\n",
       "      <th>1590</th>\n",
       "      <td>1.000</td>\n",
       "      <td>0.001</td>\n",
       "      <td>0.950</td>\n",
       "    </tr>\n",
       "  </tbody>\n",
       "</table>\n",
       "<p>1591 rows × 3 columns</p>\n",
       "</div>"
      ],
      "text/plain": [
       "      Eigen  Ver_explained  Cumm_var\n",
       "0     6.020          0.003     0.003\n",
       "1     5.203          0.003     0.006\n",
       "2     4.547          0.002     0.008\n",
       "3     3.615          0.002     0.010\n",
       "4     3.530          0.002     0.012\n",
       "...     ...            ...       ...\n",
       "1586  1.000          0.001     0.948\n",
       "1587  1.000          0.001     0.948\n",
       "1588  1.000          0.001     0.949\n",
       "1589  1.000          0.001     0.949\n",
       "1590  1.000          0.001     0.950\n",
       "\n",
       "[1591 rows x 3 columns]"
      ]
     },
     "execution_count": 20,
     "metadata": {},
     "output_type": "execute_result"
    }
   ],
   "source": [
    "eigen[eigen[\"Eigen\"]>=1]"
   ]
  },
  {
   "cell_type": "code",
   "execution_count": 21,
   "id": "42a398af",
   "metadata": {},
   "outputs": [],
   "source": [
    "pcs82=PCA(n_components=82)\n",
    "pcs82_fit=pcs82.fit(X)\n",
    "X_pcs=pcs82_fit.transform(X)"
   ]
  },
  {
   "cell_type": "code",
   "execution_count": 22,
   "id": "cf17e920",
   "metadata": {},
   "outputs": [],
   "source": [
    "pc_X=pd.DataFrame(X_pcs, columns=['PC1','PC2','PC3','PC4','PC5','PC6','PC7','PC8','PC9','PC10','PC11','PC12','PC13','PC14','PC15','PC16','PC17','PC18','PC19','PC20','PC21','PC22','PC23','PC24','PC25','PC26','PC27','PC28','PC29','PC30','PC31','PC32','PC33','PC34','PC35','PC36','PC37','PC38','PC39','PC40','PC41','PC42','PC43','PC44','PC45','PC46','PC47','PC48','PC49','PC50','PC51','PC52','PC53','PC54','PC55','PC56','PC57','PC58','PC59','PC60','PC61','PC62','PC63','PC64','PC65','PC66','PC67','PC68','PC69','PC70', 'PC71','PC72','PC73', 'PC74', 'PC75', 'PC76', 'PC77', 'PC78', 'PC79','PC80','PC81', 'PC82'])"
   ]
  },
  {
   "cell_type": "markdown",
   "id": "a5f6135c",
   "metadata": {},
   "source": [
    "from sklearn.linear_model import LinearRegression\n",
    "lr=LinearRegression()\n",
    "lr.fit(pc_X, Y) "
   ]
  },
  {
   "cell_type": "code",
   "execution_count": 23,
   "id": "2072dc77",
   "metadata": {},
   "outputs": [
    {
     "data": {
      "text/plain": [
       "AdaBoostRegressor(n_estimators=30, random_state=0)"
      ]
     },
     "execution_count": 23,
     "metadata": {},
     "output_type": "execute_result"
    }
   ],
   "source": [
    "from sklearn.ensemble import AdaBoostRegressor\n",
    "regressor = AdaBoostRegressor(random_state=0, n_estimators=30)\n",
    "regressor.fit(pc_X, Y)"
   ]
  },
  {
   "cell_type": "code",
   "execution_count": 25,
   "id": "2ddc61c2",
   "metadata": {},
   "outputs": [
    {
     "data": {
      "text/plain": [
       "0.9912744805112754"
      ]
     },
     "execution_count": 25,
     "metadata": {},
     "output_type": "execute_result"
    }
   ],
   "source": [
    "regressor.score(pc_X, Y)"
   ]
  },
  {
   "cell_type": "code",
   "execution_count": 26,
   "id": "5c73f214",
   "metadata": {},
   "outputs": [
    {
     "data": {
      "text/plain": [
       "0.990702676946337"
      ]
     },
     "execution_count": 26,
     "metadata": {},
     "output_type": "execute_result"
    }
   ],
   "source": [
    "regressor.fit(X, Y)\n",
    "regressor.score(X, Y)"
   ]
  },
  {
   "cell_type": "code",
   "execution_count": 27,
   "id": "248fa61b",
   "metadata": {},
   "outputs": [
    {
     "data": {
      "text/plain": [
       "(19237, 1883)"
      ]
     },
     "execution_count": 27,
     "metadata": {},
     "output_type": "execute_result"
    }
   ],
   "source": [
    "X.shape"
   ]
  },
  {
   "cell_type": "code",
   "execution_count": 28,
   "id": "a10767f2",
   "metadata": {},
   "outputs": [
    {
     "data": {
      "text/plain": [
       "(19237, 82)"
      ]
     },
     "execution_count": 28,
     "metadata": {},
     "output_type": "execute_result"
    }
   ],
   "source": [
    "pc_X.shape"
   ]
  },
  {
   "cell_type": "code",
   "execution_count": 29,
   "id": "b6904310",
   "metadata": {},
   "outputs": [],
   "source": [
    "from sklearn.model_selection import train_test_split"
   ]
  },
  {
   "cell_type": "code",
   "execution_count": 30,
   "id": "ac52078f",
   "metadata": {},
   "outputs": [],
   "source": [
    "x_train, x_test, y_train, y_test = train_test_split(pc_X,Y, test_size = 0.25, random_state = 5)"
   ]
  },
  {
   "cell_type": "code",
   "execution_count": 31,
   "id": "4ee26acf",
   "metadata": {},
   "outputs": [
    {
     "data": {
      "text/plain": [
       "Index(['PC1', 'PC2', 'PC3', 'PC4', 'PC5', 'PC6', 'PC7', 'PC8', 'PC9', 'PC10',\n",
       "       'PC11', 'PC12', 'PC13', 'PC14', 'PC15', 'PC16', 'PC17', 'PC18', 'PC19',\n",
       "       'PC20', 'PC21', 'PC22', 'PC23', 'PC24', 'PC25', 'PC26', 'PC27', 'PC28',\n",
       "       'PC29', 'PC30', 'PC31', 'PC32', 'PC33', 'PC34', 'PC35', 'PC36', 'PC37',\n",
       "       'PC38', 'PC39', 'PC40', 'PC41', 'PC42', 'PC43', 'PC44', 'PC45', 'PC46',\n",
       "       'PC47', 'PC48', 'PC49', 'PC50', 'PC51', 'PC52', 'PC53', 'PC54', 'PC55',\n",
       "       'PC56', 'PC57', 'PC58', 'PC59', 'PC60', 'PC61', 'PC62', 'PC63', 'PC64',\n",
       "       'PC65', 'PC66', 'PC67', 'PC68', 'PC69', 'PC70', 'PC71', 'PC72', 'PC73',\n",
       "       'PC74', 'PC75', 'PC76', 'PC77', 'PC78', 'PC79', 'PC80', 'PC81', 'PC82'],\n",
       "      dtype='object')"
      ]
     },
     "execution_count": 31,
     "metadata": {},
     "output_type": "execute_result"
    }
   ],
   "source": [
    "x_train.columns"
   ]
  },
  {
   "cell_type": "code",
   "execution_count": 32,
   "id": "2fcc2438",
   "metadata": {},
   "outputs": [
    {
     "name": "stdout",
     "output_type": "stream",
     "text": [
      "                            OLS Regression Results                            \n",
      "==============================================================================\n",
      "Dep. Variable:                      y   R-squared:                       0.245\n",
      "Model:                            OLS   Adj. R-squared:                  0.241\n",
      "Method:                 Least Squares   F-statistic:                     56.83\n",
      "Date:                Tue, 09 Aug 2022   Prob (F-statistic):               0.00\n",
      "Time:                        23:41:37   Log-Likelihood:            -1.6011e+05\n",
      "No. Observations:               14427   AIC:                         3.204e+05\n",
      "Df Residuals:                   14344   BIC:                         3.210e+05\n",
      "Df Model:                          82                                         \n",
      "Covariance Type:            nonrobust                                         \n",
      "==============================================================================\n",
      "                 coef    std err          t      P>|t|      [0.025      0.975]\n",
      "------------------------------------------------------------------------------\n",
      "const       1.715e+04    133.558    128.386      0.000    1.69e+04    1.74e+04\n",
      "PC1          737.8730     54.363     13.573      0.000     631.315     844.431\n",
      "PC2        -1468.8534     58.334    -25.180      0.000   -1583.196   -1354.511\n",
      "PC3         1470.4906     62.539     23.513      0.000    1347.906    1593.075\n",
      "PC4          923.4678     70.415     13.115      0.000     785.445    1061.490\n",
      "PC5         -454.1719     70.647     -6.429      0.000    -592.649    -315.694\n",
      "PC6         -104.4038     73.711     -1.416      0.157    -248.886      40.079\n",
      "PC7         -415.0922     79.023     -5.253      0.000    -569.988    -260.196\n",
      "PC8         -469.0015     78.496     -5.975      0.000    -622.864    -315.139\n",
      "PC9         -588.3780     79.760     -7.377      0.000    -744.717    -432.039\n",
      "PC10        2247.8072     74.040     30.359      0.000    2102.678    2392.936\n",
      "PC11        -573.2135     78.105     -7.339      0.000    -726.310    -420.117\n",
      "PC12         994.3133     80.366     12.372      0.000     836.786    1151.841\n",
      "PC13        -794.0622     79.602     -9.975      0.000    -950.091    -638.033\n",
      "PC14         433.0166     80.578      5.374      0.000     275.074     590.960\n",
      "PC15         742.2980     80.634      9.206      0.000     584.245     900.351\n",
      "PC16        -288.9677     82.835     -3.488      0.000    -451.335    -126.601\n",
      "PC17         386.5473     83.108      4.651      0.000     223.644     549.451\n",
      "PC18         709.7801     87.541      8.108      0.000     538.188     881.372\n",
      "PC19        1165.3139     85.120     13.690      0.000     998.469    1332.159\n",
      "PC20        -186.4263    109.380     -1.704      0.088    -400.825      27.972\n",
      "PC21          22.9905     99.515      0.231      0.817    -172.072     218.053\n",
      "PC22        -342.7185     94.967     -3.609      0.000    -528.865    -156.572\n",
      "PC23         288.8755     86.191      3.352      0.001     119.931     457.820\n",
      "PC24        -479.2969     83.067     -5.770      0.000    -642.120    -316.474\n",
      "PC25        -661.2642     91.107     -7.258      0.000    -839.845    -482.684\n",
      "PC26        -137.0142     85.550     -1.602      0.109    -304.704      30.676\n",
      "PC27         -14.5192     90.061     -0.161      0.872    -191.051     162.013\n",
      "PC28         -54.1955     88.435     -0.613      0.540    -227.539     119.148\n",
      "PC29         644.6432     88.287      7.302      0.000     471.588     817.698\n",
      "PC30         -25.1180     90.391     -0.278      0.781    -202.295     152.059\n",
      "PC31        1145.7310     90.287     12.690      0.000     968.757    1322.705\n",
      "PC32         -80.3764     88.136     -0.912      0.362    -253.134      92.382\n",
      "PC33        -714.1691    100.429     -7.111      0.000    -911.024    -517.315\n",
      "PC34        -237.8143     92.857     -2.561      0.010    -419.825     -55.803\n",
      "PC35         532.0166    101.564      5.238      0.000     332.938     731.095\n",
      "PC36         245.1464     95.239      2.574      0.010      58.465     431.828\n",
      "PC37         252.7501    105.710      2.391      0.017      45.544     459.956\n",
      "PC38         457.2795    105.340      4.341      0.000     250.800     663.759\n",
      "PC39         145.2015     99.766      1.455      0.146     -50.353     340.756\n",
      "PC40        -968.4323    107.262     -9.029      0.000   -1178.679    -758.185\n",
      "PC41         131.3007     96.452      1.361      0.173     -57.757     320.359\n",
      "PC42         -72.0064     95.319     -0.755      0.450    -258.843     114.830\n",
      "PC43         298.9587     92.956      3.216      0.001     116.753     481.164\n",
      "PC44        -613.0618    100.512     -6.099      0.000    -810.078    -416.045\n",
      "PC45         274.4912     98.765      2.779      0.005      80.898     468.084\n",
      "PC46        -420.7097     95.312     -4.414      0.000    -607.534    -233.886\n",
      "PC47         364.6792     98.510      3.702      0.000     171.587     557.772\n",
      "PC48        1888.3451    119.527     15.799      0.000    1654.057    2122.633\n",
      "PC49         167.6347     99.021      1.693      0.090     -26.459     361.728\n",
      "PC50        -524.5615    125.447     -4.182      0.000    -770.454    -278.669\n",
      "PC51         949.6522     99.712      9.524      0.000     754.205    1145.100\n",
      "PC52        -169.6198    101.042     -1.679      0.093    -367.675      28.436\n",
      "PC53        -473.9780    109.971     -4.310      0.000    -689.534    -258.421\n",
      "PC54         149.2272    126.288      1.182      0.237     -98.314     396.768\n",
      "PC55        -332.8416    122.279     -2.722      0.006    -572.524     -93.159\n",
      "PC56        -441.4147    108.641     -4.063      0.000    -654.364    -228.465\n",
      "PC57         193.0854    101.738      1.898      0.058      -6.334     392.505\n",
      "PC58         792.4778    171.590      4.618      0.000     456.139    1128.817\n",
      "PC59        -256.0688    103.922     -2.464      0.014    -459.770     -52.367\n",
      "PC60         -73.7445    109.462     -0.674      0.501    -288.304     140.815\n",
      "PC61         178.0343    147.306      1.209      0.227    -110.704     466.772\n",
      "PC62         408.8008    120.242      3.400      0.001     173.111     644.491\n",
      "PC63         489.2345    106.097      4.611      0.000     281.270     697.199\n",
      "PC64        -288.8862     94.846     -3.046      0.002    -474.798    -102.975\n",
      "PC65         250.3307    109.988      2.276      0.023      34.740     465.921\n",
      "PC66        -211.2793    108.650     -1.945      0.052    -424.248       1.689\n",
      "PC67         871.1492    149.805      5.815      0.000     577.512    1164.787\n",
      "PC68        -352.6052    113.671     -3.102      0.002    -575.415    -129.795\n",
      "PC69         205.2779    135.774      1.512      0.131     -60.857     471.413\n",
      "PC70         618.5160    152.228      4.063      0.000     320.130     916.902\n",
      "PC71        -258.1030    120.850     -2.136      0.033    -494.984     -21.222\n",
      "PC72         528.4884    124.736      4.237      0.000     283.990     772.987\n",
      "PC73        1101.1305    122.117      9.017      0.000     861.764    1340.496\n",
      "PC74          97.7402    116.684      0.838      0.402    -130.976     326.456\n",
      "PC75        -216.0114    106.184     -2.034      0.042    -424.146      -7.877\n",
      "PC76        -413.0393    104.600     -3.949      0.000    -618.069    -208.010\n",
      "PC77         676.1029    105.075      6.434      0.000     470.142     882.064\n",
      "PC78        -249.8075    106.295     -2.350      0.019    -458.160     -41.455\n",
      "PC79        -602.9966    113.237     -5.325      0.000    -824.956    -381.037\n",
      "PC80         259.4508    107.643      2.410      0.016      48.457     470.444\n",
      "PC81         499.5662    102.257      4.885      0.000     299.128     700.004\n",
      "PC82         818.0970    100.401      8.148      0.000     621.298    1014.896\n",
      "==============================================================================\n",
      "Omnibus:                    10334.136   Durbin-Watson:                   1.982\n",
      "Prob(Omnibus):                  0.000   Jarque-Bera (JB):           408883.047\n",
      "Skew:                           2.985   Prob(JB):                         0.00\n",
      "Kurtosis:                      28.388   Cond. No.                         5.17\n",
      "==============================================================================\n",
      "\n",
      "Notes:\n",
      "[1] Standard Errors assume that the covariance matrix of the errors is correctly specified.\n"
     ]
    }
   ],
   "source": [
    "import statsmodels.api as sm  \n",
    "\n",
    "X = x_train[['PC1', 'PC2', 'PC3', 'PC4', 'PC5', 'PC6', 'PC7', 'PC8', 'PC9', 'PC10',\n",
    "       'PC11', 'PC12', 'PC13', 'PC14', 'PC15', 'PC16', 'PC17', 'PC18', 'PC19',\n",
    "       'PC20', 'PC21', 'PC22', 'PC23', 'PC24', 'PC25', 'PC26', 'PC27', 'PC28',\n",
    "       'PC29', 'PC30', 'PC31', 'PC32', 'PC33', 'PC34', 'PC35', 'PC36', 'PC37',\n",
    "       'PC38', 'PC39', 'PC40', 'PC41', 'PC42', 'PC43', 'PC44', 'PC45', 'PC46',\n",
    "       'PC47', 'PC48', 'PC49', 'PC50', 'PC51', 'PC52', 'PC53', 'PC54', 'PC55',\n",
    "       'PC56', 'PC57', 'PC58', 'PC59', 'PC60', 'PC61', 'PC62', 'PC63', 'PC64',\n",
    "       'PC65', 'PC66', 'PC67', 'PC68', 'PC69', 'PC70', 'PC71', 'PC72', 'PC73',\n",
    "       'PC74', 'PC75', 'PC76', 'PC77', 'PC78', 'PC79', 'PC80', 'PC81', 'PC82'\n",
    "        ]]\n",
    "\n",
    "Y = y_train\n",
    "\n",
    "X = sm.add_constant(X)\n",
    "\n",
    "\n",
    "\n",
    "model = sm.OLS(Y, X).fit()\n",
    "\n",
    "\n",
    "\n",
    "print(model.summary())"
   ]
  },
  {
   "cell_type": "code",
   "execution_count": 33,
   "id": "34f6da11",
   "metadata": {},
   "outputs": [],
   "source": [
    "cols_selected = ['PC1', 'PC2', 'PC3', 'PC4', 'PC5', 'PC6', 'PC7', 'PC8', 'PC9', 'PC10',\n",
    "       'PC11', 'PC12', 'PC13', 'PC14', 'PC15', 'PC16', 'PC17', 'PC18', 'PC19',\n",
    "       'PC20', 'PC21', 'PC22', 'PC23', 'PC24', 'PC25', 'PC26', 'PC27', 'PC28',\n",
    "       'PC29', 'PC30', 'PC31', 'PC32', 'PC33', 'PC34', 'PC35', 'PC36', 'PC37',\n",
    "       'PC38', 'PC39', 'PC40', 'PC41', 'PC42', 'PC43', 'PC44', 'PC45', 'PC46',\n",
    "       'PC47', 'PC48', 'PC49', 'PC50', 'PC51', 'PC52', 'PC53', 'PC54', 'PC55',\n",
    "       'PC56', 'PC57', 'PC58', 'PC59', 'PC60', 'PC61', 'PC62', 'PC63', 'PC64',\n",
    "       'PC65', 'PC66', 'PC67', 'PC68', 'PC69', 'PC70', 'PC71', 'PC72', 'PC73',\n",
    "       'PC74', 'PC75', 'PC76', 'PC77', 'PC78', 'PC79', 'PC80', 'PC81', 'PC82']"
   ]
  },
  {
   "cell_type": "code",
   "execution_count": 34,
   "id": "2e4c9a99",
   "metadata": {},
   "outputs": [],
   "source": [
    "x_train1=x_train[cols_selected]\n",
    "x = sm.add_constant(x_train1)"
   ]
  },
  {
   "cell_type": "code",
   "execution_count": 35,
   "id": "b2d51a4f",
   "metadata": {},
   "outputs": [],
   "source": [
    "predYTrain = model.predict(x)\n",
    "actYTrain = y_train"
   ]
  },
  {
   "cell_type": "code",
   "execution_count": 38,
   "id": "6faf649b",
   "metadata": {},
   "outputs": [
    {
     "name": "stdout",
     "output_type": "stream",
     "text": [
      "MSE : 255230375.73781666\n",
      "RMSE : 15975.931138366135\n",
      "Mean Absolute Error(MAE) : 10362.660324720351\n",
      "Mean Absolute Percentage Error(MAPE) : 16.253595099374543\n"
     ]
    }
   ],
   "source": [
    "print('MSE :', np.mean((predYTrain - actYTrain)**2))\n",
    "\n",
    "print('RMSE :', np.sqrt(np.mean((predYTrain - actYTrain)**2)))\n",
    "\n",
    "print('Mean Absolute Error(MAE) :', np.mean(abs(predYTrain - actYTrain)))\n",
    "\n",
    "print('Mean Absolute Percentage Error(MAPE) :', np.mean(abs((actYTrain - predYTrain)/actYTrain)))"
   ]
  },
  {
   "cell_type": "code",
   "execution_count": 39,
   "id": "b0dd69f9",
   "metadata": {},
   "outputs": [
    {
     "name": "stdout",
     "output_type": "stream",
     "text": [
      "MSE : 144166533279.29385\n",
      "RMSE : 379692.682678102\n",
      "Mean Absolute Error(MAE) : 16095.373192993733\n",
      "Mean Absolute Percentage Error(MAPE) : 19.453474368952477\n"
     ]
    }
   ],
   "source": [
    "x_test1=x_test[cols_selected]\n",
    "x = sm.add_constant(x_test1)\n",
    "\n",
    "predYTest = model.predict(x)\n",
    "\n",
    "actYTest = y_test\n",
    "\n",
    "print('MSE :', np.mean((predYTest - actYTest)**2))\n",
    "\n",
    "print('RMSE :', np.sqrt(np.mean((predYTest - actYTest)**2)))\n",
    "\n",
    "print('Mean Absolute Error(MAE) :', np.mean(abs(predYTest - actYTest)))\n",
    "\n",
    "print('Mean Absolute Percentage Error(MAPE) :', np.mean(abs((actYTest - predYTest)/actYTest)))"
   ]
  },
  {
   "cell_type": "code",
   "execution_count": 40,
   "id": "7a5ae33f",
   "metadata": {},
   "outputs": [],
   "source": [
    "act_pred = pd.DataFrame({'ActPrice' : actYTrain, 'PredPrice' : predYTrain})"
   ]
  },
  {
   "cell_type": "code",
   "execution_count": 41,
   "id": "30732cf6",
   "metadata": {},
   "outputs": [
    {
     "data": {
      "text/plain": [
       "<AxesSubplot:>"
      ]
     },
     "execution_count": 41,
     "metadata": {},
     "output_type": "execute_result"
    },
    {
     "data": {
      "image/png": "[encoded data removed]",
      "text/plain": [
       "<Figure size 432x288 with 1 Axes>"
      ]
     },
     "metadata": {
      "needs_background": "light"
     },
     "output_type": "display_data"
    }
   ],
   "source": [
    "act_pred.head(20).plot(kind = 'bar')"
   ]
  },
  {
   "cell_type": "code",
   "execution_count": null,
   "id": "21d6c2e5",
   "metadata": {},
   "outputs": [],
   "source": []
  },
  {
   "cell_type": "code",
   "execution_count": null,
   "id": "8a61cb5b",
   "metadata": {},
   "outputs": [],
   "source": []
  },
  {
   "cell_type": "code",
   "execution_count": null,
   "id": "28b756e1",
   "metadata": {},
   "outputs": [],
   "source": []
  }
 ],
 "metadata": {
  "kernelspec": {
   "display_name": "Python 3 (ipykernel)",
   "language": "python",
   "name": "python3"
  },
  "language_info": {
   "codemirror_mode": {
    "name": "ipython",
    "version": 3
   },
   "file_extension": ".py",
   "mimetype": "text/x-python",
   "name": "python",
   "nbconvert_exporter": "python",
   "pygments_lexer": "ipython3",
   "version": "3.9.12"
  }
 },
 "nbformat": 4,
 "nbformat_minor": 5
}
